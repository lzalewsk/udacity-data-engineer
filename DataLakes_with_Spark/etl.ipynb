{
 "cells": [
  {
   "cell_type": "markdown",
   "metadata": {
    "editable": true
   },
   "source": [
    "# Draft notebook for Dataset check"
   ]
  },
  {
   "cell_type": "code",
   "execution_count": 1,
   "metadata": {
    "editable": true
   },
   "outputs": [],
   "source": [
    "import configparser\n",
    "from datetime import datetime, date\n",
    "import os\n",
    "from pyspark.sql import SparkSession\n",
    "from pyspark.sql.functions import udf, col\n",
    "from pyspark.sql.functions import year, month, dayofmonth, hour, weekofyear, date_format, dayofweek\n",
    "from pyspark.sql.types import TimestampType, DateType\n",
    "import argparse"
   ]
  },
  {
   "cell_type": "code",
   "execution_count": 2,
   "metadata": {
    "editable": true
   },
   "outputs": [],
   "source": [
    "def create_spark_session():\n",
    "    spark = SparkSession \\\n",
    "        .builder \\\n",
    "        .config(\"spark.jars.packages\", \"org.apache.hadoop:hadoop-aws:2.7.0\") \\\n",
    "        .getOrCreate()\n",
    "    return spark"
   ]
  },
  {
   "cell_type": "code",
   "execution_count": 3,
   "metadata": {
    "editable": true
   },
   "outputs": [],
   "source": [
    "spark = create_spark_session()"
   ]
  },
  {
   "cell_type": "code",
   "execution_count": 4,
   "metadata": {
    "editable": true
   },
   "outputs": [],
   "source": [
    "def process_song_data(spark, input_data, output_data):\n",
    "    # get filepath to song data file\n",
    "    song_data =  input_data + \"/song_data/*/*/*/*.json\"\n",
    "    \n",
    "    # read song data file\n",
    "    df = spark.read.json(song_data)\n",
    "    df.printSchema()\n",
    "\n",
    "    # extract columns to create songs table\n",
    "    songs_table = df.select([\"song_id\", \"title\", \"artist_id\", \"year\", \"duration\"]).distinct()\n",
    "    songs_table.createOrReplaceTempView(\"songs\")\n",
    "    \n",
    "    # write songs table to parquet files partitioned by year and artist\n",
    "    songs_table.write.parquet(output_data+\"songs\", \n",
    "                              mode='overwrite',\n",
    "                              partitionBy=[\"year\", \"artist_id\"]\n",
    "                            )\n",
    "\n",
    "    # extract columns to create artists table\n",
    "    artists_table = df.select([\"artist_id\", \"artist_name\", \"artist_location\", \"artist_latitude\", \"artist_longitude\"])\n",
    "    artists_table = artists_table.withColumnRenamed(\"artist_name\", \"name\") \\\n",
    "                                 .withColumnRenamed(\"artist_location\", \"location\") \\\n",
    "                                 .withColumnRenamed(\"artist_latitude\", \"latitude\") \\\n",
    "                                 .withColumnRenamed(\"artist_longitude\", \"longitude\") \\\n",
    "                                 .distinct()      \n",
    "    \n",
    "    # write artists table to parquet files\n",
    "    artists_table.write.parquet(output_data+\"artists\", \n",
    "                              mode='overwrite',\n",
    "                            )\n"
   ]
  },
  {
   "cell_type": "code",
   "execution_count": 30,
   "metadata": {
    "editable": true
   },
   "outputs": [],
   "source": [
    "def process_log_data(spark, input_data, output_data):\n",
    "    # get filepath to log data file\n",
    "    log_data = input_data + \"log_data/*/*/*.json\"\n",
    "\n",
    "    # read log data file\n",
    "    df = spark.read.json(log_data)\n",
    "    \n",
    "    # filter by actions for song plays\n",
    "    df = df.filter(\"page = 'NextSong'\")\n",
    "\n",
    "    # extract columns for users table    \n",
    "    users = df.select([\"ts\", \"userId\", \"firstName\", \"lastName\", \"gender\", \"level\"]) \\\n",
    "                    .withColumnRenamed(\"userId\", \"user_id\") \\\n",
    "                    .withColumnRenamed(\"firstName\", \"first_name\") \\\n",
    "                    .withColumnRenamed(\"lastName\", \"last_name\")\n",
    "    users.createOrReplaceTempView(\"users\")\n",
    "    users_table = spark.sql(\n",
    "            \"\"\"\n",
    "                WITH numbered_levels AS (\n",
    "                  SELECT ROW_NUMBER() over (PARTITION by user_id ORDER BY ts DESC) AS row_num,\n",
    "                         user_id,\n",
    "                         first_name, \n",
    "                         last_name, \n",
    "                         gender, \n",
    "                         level\n",
    "                    FROM users\n",
    "                )\n",
    "                SELECT DISTINCT user_id, first_name, last_name, gender, level\n",
    "                  FROM numbered_levels\n",
    "                 WHERE row_num = 1\n",
    "            \"\"\"\n",
    "        )    \n",
    "    \n",
    "    # write users table to parquet files\n",
    "    users_table.write.parquet(output_data + \"users\", \n",
    "                              mode='overwrite',\n",
    "                            )\n",
    "\n",
    "    # create timestamp column from original timestamp column\n",
    "    get_timestamp = udf(lambda epoch: datetime.fromtimestamp(epoch / 1000.0), TimestampType())\n",
    "    df = df.withColumn(\"start_time\", get_timestamp(\"ts\"))\n",
    "    \n",
    "    # create datetime column from original timestamp column\n",
    "    get_datetime = udf(lambda epoch: date.fromtimestamp(epoch / 1000.0), DateType())\n",
    "    df = df.withColumn(\"date\", get_datetime(\"ts\"))\n",
    "    \n",
    "    # extract columns to create time table\n",
    "    time_table = df.select(\"start_time\", \n",
    "                           hour(\"date\").alias(\"hour\"), \n",
    "                           dayofmonth(\"date\").alias(\"day\"), \n",
    "                           weekofyear(\"date\").alias(\"week\"), \n",
    "                           month(\"date\").alias(\"month\"),\n",
    "                           year(\"date\").alias(\"year\"),\n",
    "                           dayofweek(\"date\").alias(\"weekday\")\n",
    "                        ).distinct()\n",
    "    \n",
    "    # write time table to parquet files partitioned by year and month\n",
    "    time_table.write.parquet(output_data + \"times\", \n",
    "                              mode='overwrite',\n",
    "                              partitionBy=[\"year\", \"month\"]\n",
    "                            )\n",
    "\n",
    "    # read in song data to use for songplays table\n",
    "    song_df = df.select(\"song\", \n",
    "                         \"length\", \n",
    "                         \"page\", \n",
    "                         \"start_time\",\n",
    "                         \"userId\", \n",
    "                         \"level\", \n",
    "                         \"sessionId\",\n",
    "                         \"location\", \n",
    "                         \"userAgent\",\n",
    "                        month(\"date\").alias(\"month\"),\n",
    "                        year(\"date\").alias(\"year\"),\n",
    "                        )\n",
    "\n",
    "    # extract columns from joined song and log datasets to create songplays table \n",
    "    song_df.createOrReplaceTempView(\"staging_events\") \n",
    "\n",
    "    songplays_table = spark.sql(\n",
    "            \"\"\"\n",
    "            SELECT row_number() OVER (PARTITION BY start_time ORDER BY start_time) as songplay_id,\n",
    "                   e.start_time, \n",
    "                   e.userId AS user_id, \n",
    "                   e.level AS level, \n",
    "                   s.song_id AS song_id, \n",
    "                   s.artist_id AS artist_id, \n",
    "                   e.sessionId AS session_id, \n",
    "                   e.location AS location, \n",
    "                   e.userAgent AS user_agent,\n",
    "                   e.year,\n",
    "                   e.month\n",
    "            FROM staging_events e\n",
    "            LEFT JOIN songs s \n",
    "                   ON e.song = s.title\n",
    "                  AND e.length = s.duration\n",
    "                  AND e.year = s.year\n",
    "            \"\"\"\n",
    "        )\n",
    "    print(\"songplays_table\", songplays_table.limit(5).collect())\n",
    "    \n",
    "    # write songplays table to parquet files partitioned by year and month\n",
    "    songplays_table.write.parquet(output_data + \"songplays\", \n",
    "                              mode='overwrite',\n",
    "                              partitionBy=[\"year\", \"month\"]\n",
    "                            )"
   ]
  },
  {
   "cell_type": "code",
   "execution_count": 5,
   "metadata": {
    "editable": true
   },
   "outputs": [],
   "source": [
    "input_data = \"data/\"\n",
    "output_data = \"out/\""
   ]
  },
  {
   "cell_type": "code",
   "execution_count": 7,
   "metadata": {
    "editable": true
   },
   "outputs": [],
   "source": [
    "process_song_data(spark, input_data, output_data)"
   ]
  },
  {
   "cell_type": "code",
   "execution_count": 38,
   "metadata": {
    "editable": true
   },
   "outputs": [
    {
     "name": "stdout",
     "output_type": "stream",
     "text": [
      "songplays_table [Row(songplay_id=1, start_time=datetime.datetime(2018, 11, 2, 12, 30, 22, 796000), user_id='15', level='paid', song_id=None, artist_id=None, session_id=172, location='Chicago-Naperville-Elgin, IL-IN-WI', user_agent='\"Mozilla/5.0 (X11; Linux x86_64) AppleWebKit/537.36 (KHTML, like Gecko) Ubuntu Chromium/36.0.1985.125 Chrome/36.0.1985.125 Safari/537.36\"', year=2018, month=11), Row(songplay_id=1, start_time=datetime.datetime(2018, 11, 3, 19, 1, 33, 796000), user_id='95', level='paid', song_id=None, artist_id=None, session_id=152, location='Winston-Salem, NC', user_agent='\"Mozilla/5.0 (iPhone; CPU iPhone OS 7_1_2 like Mac OS X) AppleWebKit/537.51.2 (KHTML, like Gecko) Version/7.0 Mobile/11D257 Safari/9537.53\"', year=2018, month=11), Row(songplay_id=1, start_time=datetime.datetime(2018, 11, 4, 6, 33, 51, 796000), user_id='25', level='paid', song_id=None, artist_id=None, session_id=128, location='Marinette, WI-MI', user_agent='\"Mozilla/5.0 (Windows NT 6.3; WOW64) AppleWebKit/537.36 (KHTML, like Gecko) Chrome/36.0.1985.143 Safari/537.36\"', year=2018, month=11), Row(songplay_id=1, start_time=datetime.datetime(2018, 11, 4, 19, 19, 20, 796000), user_id='73', level='paid', song_id=None, artist_id=None, session_id=72, location='Tampa-St. Petersburg-Clearwater, FL', user_agent='\"Mozilla/5.0 (Macintosh; Intel Mac OS X 10_9_4) AppleWebKit/537.78.2 (KHTML, like Gecko) Version/7.0.6 Safari/537.78.2\"', year=2018, month=11), Row(songplay_id=1, start_time=datetime.datetime(2018, 11, 5, 16, 31, 59, 796000), user_id='73', level='paid', song_id=None, artist_id=None, session_id=255, location='Tampa-St. Petersburg-Clearwater, FL', user_agent='\"Mozilla/5.0 (Macintosh; Intel Mac OS X 10_9_4) AppleWebKit/537.78.2 (KHTML, like Gecko) Version/7.0.6 Safari/537.78.2\"', year=2018, month=11)]\n"
     ]
    }
   ],
   "source": [
    "process_log_data(spark, input_data, output_data)"
   ]
  },
  {
   "cell_type": "code",
   "execution_count": null,
   "metadata": {
    "editable": true
   },
   "outputs": [],
   "source": []
  },
  {
   "cell_type": "code",
   "execution_count": 14,
   "metadata": {
    "editable": true
   },
   "outputs": [],
   "source": [
    "song_data =  input_data + \"/song_data/*/*/*/*.json\"\n",
    "    \n",
    "# read song data file\n",
    "df = spark.read.json(song_data)"
   ]
  },
  {
   "cell_type": "code",
   "execution_count": 15,
   "metadata": {
    "editable": true
   },
   "outputs": [
    {
     "name": "stdout",
     "output_type": "stream",
     "text": [
      "root\n",
      " |-- artist_id: string (nullable = true)\n",
      " |-- artist_latitude: double (nullable = true)\n",
      " |-- artist_location: string (nullable = true)\n",
      " |-- artist_longitude: double (nullable = true)\n",
      " |-- artist_name: string (nullable = true)\n",
      " |-- duration: double (nullable = true)\n",
      " |-- num_songs: long (nullable = true)\n",
      " |-- song_id: string (nullable = true)\n",
      " |-- title: string (nullable = true)\n",
      " |-- year: long (nullable = true)\n",
      "\n"
     ]
    }
   ],
   "source": [
    "df.printSchema()"
   ]
  },
  {
   "cell_type": "code",
   "execution_count": 16,
   "metadata": {
    "editable": true
   },
   "outputs": [],
   "source": [
    "songs_table = df.select([\"song_id\", \"title\", \"artist_id\", \"year\", \"duration\"]).distinct()"
   ]
  },
  {
   "cell_type": "code",
   "execution_count": 19,
   "metadata": {
    "editable": true
   },
   "outputs": [],
   "source": [
    "# songs_table.toPandas()"
   ]
  },
  {
   "cell_type": "code",
   "execution_count": 6,
   "metadata": {
    "editable": true
   },
   "outputs": [],
   "source": [
    "log_data = input_data + \"log_data/*/*/*.json\"\n",
    "# log_data = input_data + \"log_data/*.json\""
   ]
  },
  {
   "cell_type": "code",
   "execution_count": 7,
   "metadata": {
    "editable": true
   },
   "outputs": [],
   "source": [
    "df = spark.read.json(log_data)"
   ]
  },
  {
   "cell_type": "code",
   "execution_count": 8,
   "metadata": {
    "editable": true
   },
   "outputs": [
    {
     "name": "stdout",
     "output_type": "stream",
     "text": [
      "root\n",
      " |-- artist: string (nullable = true)\n",
      " |-- auth: string (nullable = true)\n",
      " |-- firstName: string (nullable = true)\n",
      " |-- gender: string (nullable = true)\n",
      " |-- itemInSession: long (nullable = true)\n",
      " |-- lastName: string (nullable = true)\n",
      " |-- length: double (nullable = true)\n",
      " |-- level: string (nullable = true)\n",
      " |-- location: string (nullable = true)\n",
      " |-- method: string (nullable = true)\n",
      " |-- page: string (nullable = true)\n",
      " |-- registration: double (nullable = true)\n",
      " |-- sessionId: long (nullable = true)\n",
      " |-- song: string (nullable = true)\n",
      " |-- status: long (nullable = true)\n",
      " |-- ts: long (nullable = true)\n",
      " |-- userAgent: string (nullable = true)\n",
      " |-- userId: string (nullable = true)\n",
      "\n"
     ]
    }
   ],
   "source": [
    "df.printSchema()"
   ]
  },
  {
   "cell_type": "code",
   "execution_count": null,
   "metadata": {
    "editable": true
   },
   "outputs": [],
   "source": []
  }
 ],
 "metadata": {
  "kernelspec": {
   "display_name": "Python 3",
   "language": "python",
   "name": "python3"
  },
  "language_info": {
   "codemirror_mode": {
    "name": "ipython",
    "version": 3
   },
   "file_extension": ".py",
   "mimetype": "text/x-python",
   "name": "python",
   "nbconvert_exporter": "python",
   "pygments_lexer": "ipython3",
   "version": "3.6.3"
  }
 },
 "nbformat": 4,
 "nbformat_minor": 4
}
